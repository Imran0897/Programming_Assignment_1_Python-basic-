{
 "cells": [
  {
   "cell_type": "code",
   "execution_count": null,
   "id": "564f18f2",
   "metadata": {},
   "outputs": [],
   "source": [
    "#1.\n",
    "\n",
    "print(\"Hello Python\")"
   ]
  },
  {
   "cell_type": "code",
   "execution_count": null,
   "id": "e6645361",
   "metadata": {},
   "outputs": [],
   "source": [
    "#2.\n",
    "\n",
    "a = int(input(\"enter first number\"))\n",
    "b = int(input(\"enter second number\"))\n",
    "\n",
    "add = a+b\n",
    "div = a/b"
   ]
  },
  {
   "cell_type": "code",
   "execution_count": null,
   "id": "366143a6",
   "metadata": {},
   "outputs": [],
   "source": [
    "#3.\n",
    "\n",
    "a = int(input(\"enter the base of triangle\"))\n",
    "b = int(input(\"enter the height of triangle\"))\n",
    "\n",
    "Area = (a*b)/2"
   ]
  },
  {
   "cell_type": "code",
   "execution_count": null,
   "id": "9459830c",
   "metadata": {},
   "outputs": [],
   "source": [
    "#4.\n",
    "\n",
    "#variable 1 = a\n",
    "#variable 2 = b\n",
    "\n",
    "#swap\n",
    "t = a\n",
    "a = b\n",
    "b = t"
   ]
  },
  {
   "cell_type": "code",
   "execution_count": null,
   "id": "1c061e08",
   "metadata": {},
   "outputs": [],
   "source": [
    "#5.\n",
    "#Program to generate a random number between a and b.\n",
    "import random\n",
    "print(random.randint(a,b))"
   ]
  }
 ],
 "metadata": {
  "kernelspec": {
   "display_name": "Python 3 (ipykernel)",
   "language": "python",
   "name": "python3"
  },
  "language_info": {
   "codemirror_mode": {
    "name": "ipython",
    "version": 3
   },
   "file_extension": ".py",
   "mimetype": "text/x-python",
   "name": "python",
   "nbconvert_exporter": "python",
   "pygments_lexer": "ipython3",
   "version": "3.9.7"
  }
 },
 "nbformat": 4,
 "nbformat_minor": 5
}
